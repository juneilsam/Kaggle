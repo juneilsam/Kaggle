{
  "nbformat": 4,
  "nbformat_minor": 0,
  "metadata": {
    "colab": {
      "name": "자전거_랜덤포레스트.ipynb",
      "provenance": [],
      "collapsed_sections": [],
      "mount_file_id": "1pp2TQSs6wNZVN7Jubkt9IEQrK-r5xpTE",
      "authorship_tag": "ABX9TyNfbFJt6lSemseFmBVcl1rc",
      "include_colab_link": true
    },
    "kernelspec": {
      "name": "python3",
      "display_name": "Python 3"
    }
  },
  "cells": [
    {
      "cell_type": "markdown",
      "metadata": {
        "id": "view-in-github",
        "colab_type": "text"
      },
      "source": [
        "<a href=\"https://colab.research.google.com/github/juneilsam/Kaggle/blob/main/BoostCourse/%EC%9E%90%EC%A0%84%EA%B1%B0_%EB%9E%9C%EB%8D%A4%ED%8F%AC%EB%A0%88%EC%8A%A4%ED%8A%B8.ipynb\" target=\"_parent\"><img src=\"https://colab.research.google.com/assets/colab-badge.svg\" alt=\"Open In Colab\"/></a>"
      ]
    },
    {
      "cell_type": "markdown",
      "metadata": {
        "id": "GNeX2AIu-QOe"
      },
      "source": [
        "# Load Dataset"
      ]
    },
    {
      "cell_type": "code",
      "metadata": {
        "id": "uoVb0lTy-OMV"
      },
      "source": [
        "import pandas as pd\r\n",
        "import numpy as np\r\n",
        "\r\n",
        "import matplotlib as mpl\r\n",
        "import matplotlib.pyplot as plt\r\n",
        "import seaborn as sns\r\n",
        "\r\n",
        "# 노트북 안에 그래프를 그리기 위해\r\n",
        "%matplotlib inline\r\n",
        "\r\n",
        "# 그래프에서 마이너스 폰트 깨지는 문제에 대한 대처\r\n",
        "mpl.rcParams['axes.unicode_minus'] = False\r\n",
        "\r\n",
        "import warnings\r\n",
        "warnings.filterwarnings('ignore')"
      ],
      "execution_count": 1,
      "outputs": []
    },
    {
      "cell_type": "code",
      "metadata": {
        "colab": {
          "base_uri": "https://localhost:8080/"
        },
        "id": "OGUCI9W5-RT1",
        "outputId": "60fdb1e9-2204-46bd-d8cd-859082c9b338"
      },
      "source": [
        "#구글 드라이브 연동하기\r\n",
        "#구글 드라이브에 데이터를 올린 후 사용할 경우에만 실행\r\n",
        "from google.colab import drive\r\n",
        "drive.mount('/content/drive')"
      ],
      "execution_count": 2,
      "outputs": [
        {
          "output_type": "stream",
          "text": [
            "Mounted at /content/drive\n"
          ],
          "name": "stdout"
        }
      ]
    },
    {
      "cell_type": "code",
      "metadata": {
        "colab": {
          "base_uri": "https://localhost:8080/"
        },
        "id": "RZnzmHgD-VLc",
        "outputId": "b4c5bc8b-2972-43f6-8dc8-699595b4a4e2"
      },
      "source": [
        "train = pd.read_csv(\"/content/drive/MyDrive/PRAC/bike/train.csv\", parse_dates=[\"datetime\"])\r\n",
        "train.shape"
      ],
      "execution_count": 3,
      "outputs": [
        {
          "output_type": "execute_result",
          "data": {
            "text/plain": [
              "(10886, 12)"
            ]
          },
          "metadata": {
            "tags": []
          },
          "execution_count": 3
        }
      ]
    },
    {
      "cell_type": "code",
      "metadata": {
        "colab": {
          "base_uri": "https://localhost:8080/"
        },
        "id": "_DI0xKBj-hu_",
        "outputId": "12e81b32-d371-4369-8e85-05b152213e66"
      },
      "source": [
        "test = pd.read_csv(\"/content/drive/MyDrive/PRAC/bike/test.csv\", parse_dates=[\"datetime\"])\r\n",
        "test.shape"
      ],
      "execution_count": 4,
      "outputs": [
        {
          "output_type": "execute_result",
          "data": {
            "text/plain": [
              "(6493, 9)"
            ]
          },
          "metadata": {
            "tags": []
          },
          "execution_count": 4
        }
      ]
    },
    {
      "cell_type": "markdown",
      "metadata": {
        "id": "MeYK5KJO-qq-"
      },
      "source": [
        "# Feature Engineering"
      ]
    },
    {
      "cell_type": "code",
      "metadata": {
        "colab": {
          "base_uri": "https://localhost:8080/"
        },
        "id": "n4az4EgF-rP7",
        "outputId": "4b1abad0-3764-4996-bcf8-d5bb127b0233"
      },
      "source": [
        "train[\"year\"] = train[\"datetime\"].dt.year\r\n",
        "train[\"month\"] = train[\"datetime\"].dt.month\r\n",
        "train[\"day\"] = train[\"datetime\"].dt.day\r\n",
        "train[\"hour\"] = train[\"datetime\"].dt.hour\r\n",
        "train[\"minute\"] = train[\"datetime\"].dt.minute\r\n",
        "train[\"second\"] = train[\"datetime\"].dt.second\r\n",
        "train[\"dayofweek\"] = train[\"datetime\"].dt.dayofweek\r\n",
        "train.shape"
      ],
      "execution_count": 5,
      "outputs": [
        {
          "output_type": "execute_result",
          "data": {
            "text/plain": [
              "(10886, 19)"
            ]
          },
          "metadata": {
            "tags": []
          },
          "execution_count": 5
        }
      ]
    },
    {
      "cell_type": "code",
      "metadata": {
        "colab": {
          "base_uri": "https://localhost:8080/"
        },
        "id": "KGHPTDiH-sAO",
        "outputId": "05834758-6721-4c79-cefc-43d437fa4cf7"
      },
      "source": [
        "test[\"year\"] = test[\"datetime\"].dt.year\r\n",
        "test[\"month\"] = test[\"datetime\"].dt.month\r\n",
        "test[\"day\"] = test[\"datetime\"].dt.day\r\n",
        "test[\"hour\"] = test[\"datetime\"].dt.hour\r\n",
        "test[\"minute\"] = test[\"datetime\"].dt.minute\r\n",
        "test[\"second\"] = test[\"datetime\"].dt.second\r\n",
        "test[\"dayofweek\"] = test[\"datetime\"].dt.dayofweek\r\n",
        "test.shape"
      ],
      "execution_count": 6,
      "outputs": [
        {
          "output_type": "execute_result",
          "data": {
            "text/plain": [
              "(6493, 16)"
            ]
          },
          "metadata": {
            "tags": []
          },
          "execution_count": 6
        }
      ]
    },
    {
      "cell_type": "code",
      "metadata": {
        "colab": {
          "base_uri": "https://localhost:8080/",
          "height": 693
        },
        "id": "Ft6VwVWz-xFO",
        "outputId": "b9219345-0853-4760-bf97-2d988712cafe"
      },
      "source": [
        "# widspeed 풍속에 0 값이 가장 많다. => 잘못 기록된 데이터를 고쳐 줄 필요가 있음\r\n",
        "fig, axes = plt.subplots(nrows=2)\r\n",
        "fig.set_size_inches(18,10)\r\n",
        "\r\n",
        "plt.sca(axes[0])\r\n",
        "plt.xticks(rotation=30, ha='right')\r\n",
        "axes[0].set(ylabel='Count',title=\"train windspeed\")\r\n",
        "sns.countplot(data=train, x=\"windspeed\", ax=axes[0])\r\n",
        "\r\n",
        "plt.sca(axes[1])\r\n",
        "plt.xticks(rotation=30, ha='right')\r\n",
        "axes[1].set(ylabel='Count',title=\"test windspeed\")\r\n",
        "sns.countplot(data=test, x=\"windspeed\", ax=axes[1])"
      ],
      "execution_count": 7,
      "outputs": [
        {
          "output_type": "execute_result",
          "data": {
            "text/plain": [
              "<matplotlib.axes._subplots.AxesSubplot at 0x7f394717e1d0>"
            ]
          },
          "metadata": {
            "tags": []
          },
          "execution_count": 7
        },
        {
          "output_type": "display_data",
          "data": {
            "image/png": "[encoded data removed]",
            "text/plain": [
              "<Figure size 1296x720 with 2 Axes>"
            ]
          },
          "metadata": {
            "tags": [],
            "needs_background": "light"
          }
        }
      ]
    },
    {
      "cell_type": "code",
      "metadata": {
        "id": "QcDkt1f3-y1n"
      },
      "source": [
        "# 풍속의 0값에 특정 값을 넣어준다.\r\n",
        "# 평균을 구해 일괄적으로 넣어줄 수도 있지만, 예측의 정확도를 높이는 데 도움이 될것 같진 않다.\r\n",
        "# train.loc[train[\"windspeed\"] == 0, \"windspeed\"] = train[\"windspeed\"].mean()\r\n",
        "# test.loc[train[\"windspeed\"] == 0, \"windspeed\"] = train[\"windspeed\"].mean()"
      ],
      "execution_count": 8,
      "outputs": []
    },
    {
      "cell_type": "code",
      "metadata": {
        "colab": {
          "base_uri": "https://localhost:8080/"
        },
        "id": "wyvDCPn_-2IX",
        "outputId": "bd63fc9c-8c7c-4a1b-b4c7-e06aea77e7e4"
      },
      "source": [
        "# 풍속이 0인것과 아닌 것의 세트를 나누어 준다.\r\n",
        "trainWind0 = train.loc[train['windspeed'] == 0]\r\n",
        "trainWindNot0 = train.loc[train['windspeed'] != 0]\r\n",
        "print(trainWind0.shape)\r\n",
        "print(trainWindNot0.shape)"
      ],
      "execution_count": 9,
      "outputs": [
        {
          "output_type": "stream",
          "text": [
            "(1313, 19)\n",
            "(9573, 19)\n"
          ],
          "name": "stdout"
        }
      ]
    },
    {
      "cell_type": "code",
      "metadata": {
        "id": "Px3Eg1Kr-5f_"
      },
      "source": [
        "# 그래서 머신러닝으로 예측을 해서 풍속을 넣어주도록 한다.\r\n",
        "from sklearn.ensemble import RandomForestClassifier\r\n",
        "\r\n",
        "def predict_windspeed(data):\r\n",
        "    \r\n",
        "    # 풍속이 0인것과 아닌 것을 나누어 준다.\r\n",
        "    dataWind0 = data.loc[data['windspeed'] == 0]\r\n",
        "    dataWindNot0 = data.loc[data['windspeed'] != 0]\r\n",
        "    \r\n",
        "    # 풍속을 예측할 피처를 선택한다.\r\n",
        "    wCol = [\"season\", \"weather\", \"humidity\", \"month\", \"temp\", \"year\", \"atemp\"]\r\n",
        "\r\n",
        "    # 풍속이 0이 아닌 데이터들의 타입을 스트링으로 바꿔준다.\r\n",
        "    dataWindNot0[\"windspeed\"] = dataWindNot0[\"windspeed\"].astype(\"str\")\r\n",
        "\r\n",
        "    # 랜덤포레스트 분류기를 사용한다.\r\n",
        "    rfModel_wind = RandomForestClassifier()\r\n",
        "\r\n",
        "    # wCol에 있는 피처의 값을 바탕으로 풍속을 학습시킨다.\r\n",
        "    rfModel_wind.fit(dataWindNot0[wCol], dataWindNot0[\"windspeed\"])\r\n",
        "\r\n",
        "    # 학습한 값을 바탕으로 풍속이 0으로 기록 된 데이터의 풍속을 예측한다.\r\n",
        "    wind0Values = rfModel_wind.predict(X = dataWind0[wCol])\r\n",
        "\r\n",
        "    # 값을 다 예측 후 비교해 보기 위해\r\n",
        "    # 예측한 값을 넣어 줄 데이터 프레임을 새로 만든다.\r\n",
        "    predictWind0 = dataWind0\r\n",
        "    predictWindNot0 = dataWindNot0\r\n",
        "\r\n",
        "    # 값이 0으로 기록 된 풍속에 대해 예측한 값을 넣어준다.\r\n",
        "    predictWind0[\"windspeed\"] = wind0Values\r\n",
        "\r\n",
        "    # dataWindNot0 0이 아닌 풍속이 있는 데이터프레임에 예측한 값이 있는 데이터프레임을 합쳐준다.\r\n",
        "    data = predictWindNot0.append(predictWind0)\r\n",
        "\r\n",
        "    # 풍속의 데이터타입을 float으로 지정해 준다.\r\n",
        "    data[\"windspeed\"] = data[\"windspeed\"].astype(\"float\")\r\n",
        "\r\n",
        "    data.reset_index(inplace=True)\r\n",
        "    data.drop('index', inplace=True, axis=1)\r\n",
        "    \r\n",
        "    return data"
      ],
      "execution_count": 11,
      "outputs": []
    },
    {
      "cell_type": "code",
      "metadata": {
        "colab": {
          "base_uri": "https://localhost:8080/",
          "height": 441
        },
        "id": "L41KWrOx-8YP",
        "outputId": "495a6515-a880-4e07-94f6-e72ef758dafc"
      },
      "source": [
        "# 0값을 조정한다.\r\n",
        "train = predict_windspeed(train)\r\n",
        "# test = predict_windspeed(test)\r\n",
        "\r\n",
        "# windspeed 의 0값을 조정한 데이터를 시각화\r\n",
        "fig, ax1 = plt.subplots()\r\n",
        "fig.set_size_inches(18,6)\r\n",
        "\r\n",
        "plt.sca(ax1)\r\n",
        "plt.xticks(rotation=30, ha='right')\r\n",
        "ax1.set(ylabel='Count',title=\"train windspeed\")\r\n",
        "sns.countplot(data=train, x=\"windspeed\", ax=ax1)"
      ],
      "execution_count": 12,
      "outputs": [
        {
          "output_type": "execute_result",
          "data": {
            "text/plain": [
              "<matplotlib.axes._subplots.AxesSubplot at 0x7f39408c29e8>"
            ]
          },
          "metadata": {
            "tags": []
          },
          "execution_count": 12
        },
        {
          "output_type": "display_data",
          "data": {
            "image/png": "[encoded data removed]",
            "text/plain": [
              "<Figure size 1296x432 with 1 Axes>"
            ]
          },
          "metadata": {
            "tags": [],
            "needs_background": "light"
          }
        }
      ]
    },
    {
      "cell_type": "markdown",
      "metadata": {
        "id": "OztGQQhf_WRb"
      },
      "source": [
        "# Feature Selection\r\n",
        "\r\n",
        "- 신호와 소음을 구분해야 한다.\r\n",
        "- 피처가 많다고 해서 무조건 좋은 성능을 내지 않는다.\r\n",
        "- 피처를 하나씩 추가하고 변경해 가면서 성능이 좋지 않은 피처는 제거하도록 한다."
      ]
    },
    {
      "cell_type": "code",
      "metadata": {
        "id": "hkylv1ES_RjC"
      },
      "source": [
        "# 연속형 feature와 범주형 feature \r\n",
        "# 연속형 feature = [\"temp\",\"humidity\",\"windspeed\",\"atemp\"]\r\n",
        "# 범주형 feature의 type을 category로 변경해준다.\r\n",
        "categorical_feature_names = [\"season\",\"holiday\",\"workingday\",\"weather\",\r\n",
        "                             \"dayofweek\",\"month\",\"year\",\"hour\"]\r\n",
        "\r\n",
        "for var in categorical_feature_names:\r\n",
        "    train[var] = train[var].astype(\"category\")\r\n",
        "    test[var] = test[var].astype(\"category\")"
      ],
      "execution_count": 13,
      "outputs": []
    },
    {
      "cell_type": "code",
      "metadata": {
        "colab": {
          "base_uri": "https://localhost:8080/"
        },
        "id": "964sqgKH_XVL",
        "outputId": "00065561-bae9-4e8d-dd2d-79313061ad7f"
      },
      "source": [
        "feature_names = [\"season\", \"weather\", \"temp\", \"atemp\", \"humidity\", \"windspeed\",\r\n",
        "                 \"year\", \"hour\", \"dayofweek\", \"holiday\", \"workingday\"]\r\n",
        "\r\n",
        "feature_names"
      ],
      "execution_count": 14,
      "outputs": [
        {
          "output_type": "execute_result",
          "data": {
            "text/plain": [
              "['season',\n",
              " 'weather',\n",
              " 'temp',\n",
              " 'atemp',\n",
              " 'humidity',\n",
              " 'windspeed',\n",
              " 'year',\n",
              " 'hour',\n",
              " 'dayofweek',\n",
              " 'holiday',\n",
              " 'workingday']"
            ]
          },
          "metadata": {
            "tags": []
          },
          "execution_count": 14
        }
      ]
    },
    {
      "cell_type": "code",
      "metadata": {
        "colab": {
          "base_uri": "https://localhost:8080/",
          "height": 214
        },
        "id": "pWpUaD1e_aeD",
        "outputId": "e0fc56d8-4ad0-4c25-da05-09d62ab33ce6"
      },
      "source": [
        "X_train = train[feature_names]\r\n",
        "\r\n",
        "print(X_train.shape)\r\n",
        "X_train.head()"
      ],
      "execution_count": 15,
      "outputs": [
        {
          "output_type": "stream",
          "text": [
            "(10886, 11)\n"
          ],
          "name": "stdout"
        },
        {
          "output_type": "execute_result",
          "data": {
            "text/html": [
              "<div>\n",
              "<style scoped>\n",
              "    .dataframe tbody tr th:only-of-type {\n",
              "        vertical-align: middle;\n",
              "    }\n",
              "\n",
              "    .dataframe tbody tr th {\n",
              "        vertical-align: top;\n",
              "    }\n",
              "\n",
              "    .dataframe thead th {\n",
              "        text-align: right;\n",
              "    }\n",
              "</style>\n",
              "<table border=\"1\" class=\"dataframe\">\n",
              "  <thead>\n",
              "    <tr style=\"text-align: right;\">\n",
              "      <th></th>\n",
              "      <th>season</th>\n",
              "      <th>weather</th>\n",
              "      <th>temp</th>\n",
              "      <th>atemp</th>\n",
              "      <th>humidity</th>\n",
              "      <th>windspeed</th>\n",
              "      <th>year</th>\n",
              "      <th>hour</th>\n",
              "      <th>dayofweek</th>\n",
              "      <th>holiday</th>\n",
              "      <th>workingday</th>\n",
              "    </tr>\n",
              "  </thead>\n",
              "  <tbody>\n",
              "    <tr>\n",
              "      <th>0</th>\n",
              "      <td>1</td>\n",
              "      <td>2</td>\n",
              "      <td>9.84</td>\n",
              "      <td>12.880</td>\n",
              "      <td>75</td>\n",
              "      <td>6.0032</td>\n",
              "      <td>2011</td>\n",
              "      <td>5</td>\n",
              "      <td>5</td>\n",
              "      <td>0</td>\n",
              "      <td>0</td>\n",
              "    </tr>\n",
              "    <tr>\n",
              "      <th>1</th>\n",
              "      <td>1</td>\n",
              "      <td>1</td>\n",
              "      <td>15.58</td>\n",
              "      <td>19.695</td>\n",
              "      <td>76</td>\n",
              "      <td>16.9979</td>\n",
              "      <td>2011</td>\n",
              "      <td>10</td>\n",
              "      <td>5</td>\n",
              "      <td>0</td>\n",
              "      <td>0</td>\n",
              "    </tr>\n",
              "    <tr>\n",
              "      <th>2</th>\n",
              "      <td>1</td>\n",
              "      <td>1</td>\n",
              "      <td>14.76</td>\n",
              "      <td>16.665</td>\n",
              "      <td>81</td>\n",
              "      <td>19.0012</td>\n",
              "      <td>2011</td>\n",
              "      <td>11</td>\n",
              "      <td>5</td>\n",
              "      <td>0</td>\n",
              "      <td>0</td>\n",
              "    </tr>\n",
              "    <tr>\n",
              "      <th>3</th>\n",
              "      <td>1</td>\n",
              "      <td>1</td>\n",
              "      <td>17.22</td>\n",
              "      <td>21.210</td>\n",
              "      <td>77</td>\n",
              "      <td>19.0012</td>\n",
              "      <td>2011</td>\n",
              "      <td>12</td>\n",
              "      <td>5</td>\n",
              "      <td>0</td>\n",
              "      <td>0</td>\n",
              "    </tr>\n",
              "    <tr>\n",
              "      <th>4</th>\n",
              "      <td>1</td>\n",
              "      <td>2</td>\n",
              "      <td>18.86</td>\n",
              "      <td>22.725</td>\n",
              "      <td>72</td>\n",
              "      <td>19.9995</td>\n",
              "      <td>2011</td>\n",
              "      <td>13</td>\n",
              "      <td>5</td>\n",
              "      <td>0</td>\n",
              "      <td>0</td>\n",
              "    </tr>\n",
              "  </tbody>\n",
              "</table>\n",
              "</div>"
            ],
            "text/plain": [
              "  season weather   temp   atemp  ...  hour  dayofweek holiday workingday\n",
              "0      1       2   9.84  12.880  ...     5          5       0          0\n",
              "1      1       1  15.58  19.695  ...    10          5       0          0\n",
              "2      1       1  14.76  16.665  ...    11          5       0          0\n",
              "3      1       1  17.22  21.210  ...    12          5       0          0\n",
              "4      1       2  18.86  22.725  ...    13          5       0          0\n",
              "\n",
              "[5 rows x 11 columns]"
            ]
          },
          "metadata": {
            "tags": []
          },
          "execution_count": 15
        }
      ]
    },
    {
      "cell_type": "code",
      "metadata": {
        "colab": {
          "base_uri": "https://localhost:8080/",
          "height": 214
        },
        "id": "hYct9bPV_cjj",
        "outputId": "bdfe2a58-1ed1-4699-f2df-6fb697d47647"
      },
      "source": [
        "X_test = test[feature_names]\r\n",
        "\r\n",
        "print(X_test.shape)\r\n",
        "X_test.head()"
      ],
      "execution_count": 16,
      "outputs": [
        {
          "output_type": "stream",
          "text": [
            "(6493, 11)\n"
          ],
          "name": "stdout"
        },
        {
          "output_type": "execute_result",
          "data": {
            "text/html": [
              "<div>\n",
              "<style scoped>\n",
              "    .dataframe tbody tr th:only-of-type {\n",
              "        vertical-align: middle;\n",
              "    }\n",
              "\n",
              "    .dataframe tbody tr th {\n",
              "        vertical-align: top;\n",
              "    }\n",
              "\n",
              "    .dataframe thead th {\n",
              "        text-align: right;\n",
              "    }\n",
              "</style>\n",
              "<table border=\"1\" class=\"dataframe\">\n",
              "  <thead>\n",
              "    <tr style=\"text-align: right;\">\n",
              "      <th></th>\n",
              "      <th>season</th>\n",
              "      <th>weather</th>\n",
              "      <th>temp</th>\n",
              "      <th>atemp</th>\n",
              "      <th>humidity</th>\n",
              "      <th>windspeed</th>\n",
              "      <th>year</th>\n",
              "      <th>hour</th>\n",
              "      <th>dayofweek</th>\n",
              "      <th>holiday</th>\n",
              "      <th>workingday</th>\n",
              "    </tr>\n",
              "  </thead>\n",
              "  <tbody>\n",
              "    <tr>\n",
              "      <th>0</th>\n",
              "      <td>1</td>\n",
              "      <td>1</td>\n",
              "      <td>10.66</td>\n",
              "      <td>11.365</td>\n",
              "      <td>56</td>\n",
              "      <td>26.0027</td>\n",
              "      <td>2011</td>\n",
              "      <td>0</td>\n",
              "      <td>3</td>\n",
              "      <td>0</td>\n",
              "      <td>1</td>\n",
              "    </tr>\n",
              "    <tr>\n",
              "      <th>1</th>\n",
              "      <td>1</td>\n",
              "      <td>1</td>\n",
              "      <td>10.66</td>\n",
              "      <td>13.635</td>\n",
              "      <td>56</td>\n",
              "      <td>0.0000</td>\n",
              "      <td>2011</td>\n",
              "      <td>1</td>\n",
              "      <td>3</td>\n",
              "      <td>0</td>\n",
              "      <td>1</td>\n",
              "    </tr>\n",
              "    <tr>\n",
              "      <th>2</th>\n",
              "      <td>1</td>\n",
              "      <td>1</td>\n",
              "      <td>10.66</td>\n",
              "      <td>13.635</td>\n",
              "      <td>56</td>\n",
              "      <td>0.0000</td>\n",
              "      <td>2011</td>\n",
              "      <td>2</td>\n",
              "      <td>3</td>\n",
              "      <td>0</td>\n",
              "      <td>1</td>\n",
              "    </tr>\n",
              "    <tr>\n",
              "      <th>3</th>\n",
              "      <td>1</td>\n",
              "      <td>1</td>\n",
              "      <td>10.66</td>\n",
              "      <td>12.880</td>\n",
              "      <td>56</td>\n",
              "      <td>11.0014</td>\n",
              "      <td>2011</td>\n",
              "      <td>3</td>\n",
              "      <td>3</td>\n",
              "      <td>0</td>\n",
              "      <td>1</td>\n",
              "    </tr>\n",
              "    <tr>\n",
              "      <th>4</th>\n",
              "      <td>1</td>\n",
              "      <td>1</td>\n",
              "      <td>10.66</td>\n",
              "      <td>12.880</td>\n",
              "      <td>56</td>\n",
              "      <td>11.0014</td>\n",
              "      <td>2011</td>\n",
              "      <td>4</td>\n",
              "      <td>3</td>\n",
              "      <td>0</td>\n",
              "      <td>1</td>\n",
              "    </tr>\n",
              "  </tbody>\n",
              "</table>\n",
              "</div>"
            ],
            "text/plain": [
              "  season weather   temp   atemp  ...  hour  dayofweek holiday workingday\n",
              "0      1       1  10.66  11.365  ...     0          3       0          1\n",
              "1      1       1  10.66  13.635  ...     1          3       0          1\n",
              "2      1       1  10.66  13.635  ...     2          3       0          1\n",
              "3      1       1  10.66  12.880  ...     3          3       0          1\n",
              "4      1       1  10.66  12.880  ...     4          3       0          1\n",
              "\n",
              "[5 rows x 11 columns]"
            ]
          },
          "metadata": {
            "tags": []
          },
          "execution_count": 16
        }
      ]
    },
    {
      "cell_type": "code",
      "metadata": {
        "colab": {
          "base_uri": "https://localhost:8080/"
        },
        "id": "taEcMgsT_eoT",
        "outputId": "524f40fb-9474-4f09-c976-0a3eb7f678bb"
      },
      "source": [
        "label_name = \"count\"\r\n",
        "\r\n",
        "y_train = train[label_name]\r\n",
        "\r\n",
        "print(y_train.shape)\r\n",
        "y_train.head()"
      ],
      "execution_count": 17,
      "outputs": [
        {
          "output_type": "stream",
          "text": [
            "(10886,)\n"
          ],
          "name": "stdout"
        },
        {
          "output_type": "execute_result",
          "data": {
            "text/plain": [
              "0     1\n",
              "1    36\n",
              "2    56\n",
              "3    84\n",
              "4    94\n",
              "Name: count, dtype: int64"
            ]
          },
          "metadata": {
            "tags": []
          },
          "execution_count": 17
        }
      ]
    },
    {
      "cell_type": "markdown",
      "metadata": {
        "id": "UGxyjMy9_nrX"
      },
      "source": [
        "# Score"
      ]
    },
    {
      "cell_type": "markdown",
      "metadata": {
        "id": "7QDH_Y4S_osx"
      },
      "source": [
        "**RMSLE**\r\n",
        "\r\n",
        "과대평가 된 항목보다는 과소평가 된 항목에 패널티를 준다.\r\n",
        "\r\n",
        "오차(Error)를 제곱(Square)해서 평균(Mean)한 값의 제곱근(Root) 으로 값이 작을수록 정밀도가 높다.\r\n",
        "\r\n",
        "0에 가까운 값이 나올 수록 정밀도가 높은 값이다.\r\n",
        "\r\n",
        "Submissions are evaluated one the Root Mean Squared Logarithmic Error (RMSLE)\r\n",
        "\r\n",
        "$ \\sqrt{ \\frac{1}{n} \\sum_{i=1}^{n}{ (\\log( p_i + 1) - \\log(a_i + 1))^2} } $ $ = \\sqrt{ \\frac{1}{n} \\sum_{i=1}^{n}{ (\\log \\frac {p_i + 1} {a_i + 1} )^2} } $\r\n",
        "\r\n",
        "n is the number of hours in the test set\r\n",
        "\r\n",
        "p_i is your predicted count\r\n",
        "\r\n",
        "a_i is the actual count\r\n",
        "\r\n",
        "log(x) is the natural logarithm\r\n",
        "\r\n",
        "좀 더 자세한 설명은 : [RMSLE cost function](https://www.slideshare.net/KhorSoonHin/rmsle-cost-function)\r\n",
        "\r\n",
        "잔차(residual)에 대한 평균에 로그를 씌운 값이다.\r\n",
        "\r\n",
        "=> 과대평가 된 항목보다 과소평가 된 항목에 패널티를 주기위해 정답에 대한 오류를 숫자로 나타낸 값으로, 값이 클수록 오차가 크다는 의미다.\r\n",
        "\r\n",
        "값이 작을 수록 오류가 적다는 의미를 나타낸다."
      ]
    },
    {
      "cell_type": "code",
      "metadata": {
        "colab": {
          "base_uri": "https://localhost:8080/"
        },
        "id": "aa1y0IHQ_gxE",
        "outputId": "7358b482-f70d-4174-9c6d-56d90a4ee453"
      },
      "source": [
        "from sklearn.metrics import make_scorer\r\n",
        "\r\n",
        "def rmsle(predicted_values, actual_values):\r\n",
        "    # 넘파이로 배열 형태로 바꿔준다.\r\n",
        "    predicted_values = np.array(predicted_values)\r\n",
        "    actual_values = np.array(actual_values)\r\n",
        "    \r\n",
        "    # 예측값과 실제값에 1을 더하고 로그를 씌워준다.\r\n",
        "    # 1을 더하는 이유는 0일때 마이너스 무한대가 되기 때문에 1을 더해주고 로그를 씌운다.\r\n",
        "    log_predict = np.log(predicted_values + 1)\r\n",
        "    log_actual = np.log(actual_values + 1)\r\n",
        "    \r\n",
        "    # 위에서 계산한 예측값에서 실제값을 빼주고 제곱을 해준다.\r\n",
        "    difference = log_predict - log_actual\r\n",
        "    # difference = (log_predict - log_actual) ** 2\r\n",
        "    difference = np.square(difference)\r\n",
        "    \r\n",
        "    # 평균을 낸다.\r\n",
        "    mean_difference = difference.mean()\r\n",
        "    \r\n",
        "    # 다시 루트를 씌운다.\r\n",
        "    score = np.sqrt(mean_difference)\r\n",
        "    \r\n",
        "    return score\r\n",
        "\r\n",
        "rmsle_scorer = make_scorer(rmsle)\r\n",
        "rmsle_scorer"
      ],
      "execution_count": 18,
      "outputs": [
        {
          "output_type": "execute_result",
          "data": {
            "text/plain": [
              "make_scorer(rmsle)"
            ]
          },
          "metadata": {
            "tags": []
          },
          "execution_count": 18
        }
      ]
    },
    {
      "cell_type": "markdown",
      "metadata": {
        "id": "qOYw02o0_uKj"
      },
      "source": [
        "# 교차검증\r\n",
        "\r\n",
        "- 일반화 성능을 측정하기 위해 데이터를 여러 번 반복해서 나누고 여러 모델을 학습한다."
      ]
    },
    {
      "cell_type": "markdown",
      "metadata": {
        "id": "WXP3rzns_unq"
      },
      "source": [
        "KFold 교차검증\r\n",
        "\r\n",
        "- 데이터를 폴드라 부르는 비슷한 크기의 부분집합(n_splits)으로 나누고 각각의 폴드 정확도를 측정한다.\r\n",
        "- 첫 번째 폴드를 테스트 세트로 사용하고 나머지 폴드를 훈련세트로 사용하여 학습한다.\r\n",
        "- 나머지 훈련세트로 만들어진 세트의 정확도를 첫 번째 폴드로 평가한다.\r\n",
        "- 다음은 두 번째 폴드가 테스트 세트가 되고 나머지 폴드의 훈련세트를 두 번째 폴드로 정확도를 측정한다.\r\n",
        "- 이 과정을 마지막 폴드까지 반복한다.\r\n",
        "- 이렇게 훈련세트와 테스트세트로 나누는 N개의 분할마다 정확도를 측정하여 평균 값을 낸게 정확도가 된다."
      ]
    },
    {
      "cell_type": "code",
      "metadata": {
        "id": "AvtCBKjV_rQN"
      },
      "source": [
        "from sklearn.model_selection import KFold\r\n",
        "from sklearn.model_selection import cross_val_score\r\n",
        "\r\n",
        "k_fold = KFold(n_splits=10, shuffle=True, random_state=0)"
      ],
      "execution_count": 19,
      "outputs": []
    },
    {
      "cell_type": "markdown",
      "metadata": {
        "id": "H9POsjeR_xeK"
      },
      "source": [
        "# Random Forest"
      ]
    },
    {
      "cell_type": "code",
      "metadata": {
        "colab": {
          "base_uri": "https://localhost:8080/"
        },
        "id": "kBIG9u01_v53",
        "outputId": "546d24bc-f08a-4d55-abbc-4403d7849bfb"
      },
      "source": [
        "from sklearn.ensemble import RandomForestRegressor\r\n",
        "\r\n",
        "max_depth_list = []\r\n",
        "\r\n",
        "model = RandomForestRegressor(n_estimators=100,\r\n",
        "                              n_jobs=-1,\r\n",
        "                              random_state=0)\r\n",
        "model"
      ],
      "execution_count": 20,
      "outputs": [
        {
          "output_type": "execute_result",
          "data": {
            "text/plain": [
              "RandomForestRegressor(bootstrap=True, ccp_alpha=0.0, criterion='mse',\n",
              "                      max_depth=None, max_features='auto', max_leaf_nodes=None,\n",
              "                      max_samples=None, min_impurity_decrease=0.0,\n",
              "                      min_impurity_split=None, min_samples_leaf=1,\n",
              "                      min_samples_split=2, min_weight_fraction_leaf=0.0,\n",
              "                      n_estimators=100, n_jobs=-1, oob_score=False,\n",
              "                      random_state=0, verbose=0, warm_start=False)"
            ]
          },
          "metadata": {
            "tags": []
          },
          "execution_count": 20
        }
      ]
    },
    {
      "cell_type": "code",
      "metadata": {
        "colab": {
          "base_uri": "https://localhost:8080/"
        },
        "id": "dtNKTua-_0P3",
        "outputId": "c0151ad1-0a68-4d85-f73b-9b30fce66a71"
      },
      "source": [
        "%time score = cross_val_score(model, X_train, y_train, cv=k_fold, scoring=rmsle_scorer)\r\n",
        "score = score.mean()\r\n",
        "# 0에 근접할수록 좋은 데이터\r\n",
        "print(\"Score= {0:.5f}\".format(score))"
      ],
      "execution_count": 21,
      "outputs": [
        {
          "output_type": "stream",
          "text": [
            "CPU times: user 4.11 s, sys: 898 ms, total: 5 s\n",
            "Wall time: 32.4 s\n",
            "Score= 0.33089\n"
          ],
          "name": "stdout"
        }
      ]
    },
    {
      "cell_type": "markdown",
      "metadata": {
        "id": "6oW7n9G2_58k"
      },
      "source": [
        "# Train"
      ]
    },
    {
      "cell_type": "code",
      "metadata": {
        "colab": {
          "base_uri": "https://localhost:8080/"
        },
        "id": "2xNdjfmY_2vx",
        "outputId": "26673555-cc8b-4c08-bb75-0f3c4947a13a"
      },
      "source": [
        "# 학습시킴, 피팅(옷을 맞출 때 사용하는 피팅을 생각함) - 피처와 레이블을 넣어주면 알아서 학습을 함\r\n",
        "model.fit(X_train, y_train)"
      ],
      "execution_count": 22,
      "outputs": [
        {
          "output_type": "execute_result",
          "data": {
            "text/plain": [
              "RandomForestRegressor(bootstrap=True, ccp_alpha=0.0, criterion='mse',\n",
              "                      max_depth=None, max_features='auto', max_leaf_nodes=None,\n",
              "                      max_samples=None, min_impurity_decrease=0.0,\n",
              "                      min_impurity_split=None, min_samples_leaf=1,\n",
              "                      min_samples_split=2, min_weight_fraction_leaf=0.0,\n",
              "                      n_estimators=100, n_jobs=-1, oob_score=False,\n",
              "                      random_state=0, verbose=0, warm_start=False)"
            ]
          },
          "metadata": {
            "tags": []
          },
          "execution_count": 22
        }
      ]
    },
    {
      "cell_type": "code",
      "metadata": {
        "colab": {
          "base_uri": "https://localhost:8080/"
        },
        "id": "ivykgE-D__2p",
        "outputId": "8fa763c1-acbe-46b6-9067-af687369b6d0"
      },
      "source": [
        "# 예측\r\n",
        "predictions = model.predict(X_test)\r\n",
        "\r\n",
        "print(predictions.shape)\r\n",
        "predictions[0:10]"
      ],
      "execution_count": 23,
      "outputs": [
        {
          "output_type": "stream",
          "text": [
            "(6493,)\n"
          ],
          "name": "stdout"
        },
        {
          "output_type": "execute_result",
          "data": {
            "text/plain": [
              "array([ 12.63,   5.14,   3.94,   3.55,   3.11,   6.35,  38.41, 105.29,\n",
              "       237.41, 136.06])"
            ]
          },
          "metadata": {
            "tags": []
          },
          "execution_count": 23
        }
      ]
    },
    {
      "cell_type": "code",
      "metadata": {
        "colab": {
          "base_uri": "https://localhost:8080/",
          "height": 367
        },
        "id": "fk0Jyhw0AClY",
        "outputId": "9c080beb-623d-48cc-b34d-fe655e9cb8db"
      },
      "source": [
        "# 예측한 데이터를 시각화 해본다. \r\n",
        "fig,(ax1,ax2)= plt.subplots(ncols=2)\r\n",
        "fig.set_size_inches(12,5)\r\n",
        "sns.distplot(y_train,ax=ax1,bins=50)\r\n",
        "ax1.set(title=\"train\")\r\n",
        "sns.distplot(predictions,ax=ax2,bins=50)\r\n",
        "ax2.set(title=\"test\")"
      ],
      "execution_count": 24,
      "outputs": [
        {
          "output_type": "execute_result",
          "data": {
            "text/plain": [
              "[Text(0.5, 1.0, 'test')]"
            ]
          },
          "metadata": {
            "tags": []
          },
          "execution_count": 24
        },
        {
          "output_type": "display_data",
          "data": {
            "image/png": "[encoded data removed]",
            "text/plain": [
              "<Figure size 864x360 with 2 Axes>"
            ]
          },
          "metadata": {
            "tags": [],
            "needs_background": "light"
          }
        }
      ]
    },
    {
      "cell_type": "markdown",
      "metadata": {
        "id": "o-7YhzDgAGid"
      },
      "source": [
        "# Submit"
      ]
    },
    {
      "cell_type": "code",
      "metadata": {
        "colab": {
          "base_uri": "https://localhost:8080/",
          "height": 214
        },
        "id": "qwb5AH6XAEWO",
        "outputId": "380027dd-87a3-4159-c314-bb40fbb2412c"
      },
      "source": [
        "submission = pd.read_csv(\"/content/drive/MyDrive/PRAC/bike/sampleSubmission.csv\")\r\n",
        "submission\r\n",
        "\r\n",
        "submission[\"count\"] = predictions\r\n",
        "\r\n",
        "print(submission.shape)\r\n",
        "submission.head()"
      ],
      "execution_count": 26,
      "outputs": [
        {
          "output_type": "stream",
          "text": [
            "(6493, 2)\n"
          ],
          "name": "stdout"
        },
        {
          "output_type": "execute_result",
          "data": {
            "text/html": [
              "<div>\n",
              "<style scoped>\n",
              "    .dataframe tbody tr th:only-of-type {\n",
              "        vertical-align: middle;\n",
              "    }\n",
              "\n",
              "    .dataframe tbody tr th {\n",
              "        vertical-align: top;\n",
              "    }\n",
              "\n",
              "    .dataframe thead th {\n",
              "        text-align: right;\n",
              "    }\n",
              "</style>\n",
              "<table border=\"1\" class=\"dataframe\">\n",
              "  <thead>\n",
              "    <tr style=\"text-align: right;\">\n",
              "      <th></th>\n",
              "      <th>datetime</th>\n",
              "      <th>count</th>\n",
              "    </tr>\n",
              "  </thead>\n",
              "  <tbody>\n",
              "    <tr>\n",
              "      <th>0</th>\n",
              "      <td>2011-01-20 00:00:00</td>\n",
              "      <td>12.63</td>\n",
              "    </tr>\n",
              "    <tr>\n",
              "      <th>1</th>\n",
              "      <td>2011-01-20 01:00:00</td>\n",
              "      <td>5.14</td>\n",
              "    </tr>\n",
              "    <tr>\n",
              "      <th>2</th>\n",
              "      <td>2011-01-20 02:00:00</td>\n",
              "      <td>3.94</td>\n",
              "    </tr>\n",
              "    <tr>\n",
              "      <th>3</th>\n",
              "      <td>2011-01-20 03:00:00</td>\n",
              "      <td>3.55</td>\n",
              "    </tr>\n",
              "    <tr>\n",
              "      <th>4</th>\n",
              "      <td>2011-01-20 04:00:00</td>\n",
              "      <td>3.11</td>\n",
              "    </tr>\n",
              "  </tbody>\n",
              "</table>\n",
              "</div>"
            ],
            "text/plain": [
              "              datetime  count\n",
              "0  2011-01-20 00:00:00  12.63\n",
              "1  2011-01-20 01:00:00   5.14\n",
              "2  2011-01-20 02:00:00   3.94\n",
              "3  2011-01-20 03:00:00   3.55\n",
              "4  2011-01-20 04:00:00   3.11"
            ]
          },
          "metadata": {
            "tags": []
          },
          "execution_count": 26
        }
      ]
    },
    {
      "cell_type": "code",
      "metadata": {
        "id": "jN2Zg5i3AHu5"
      },
      "source": [
        "submission.to_csv(\"/content/drive/MyDrive/PRAC/bike/Score_{0:.5f}_submission.csv\".format(score), index=False)"
      ],
      "execution_count": 27,
      "outputs": []
    },
    {
      "cell_type": "code",
      "metadata": {
        "id": "Vrd32lDAAbaN"
      },
      "source": [
        ""
      ],
      "execution_count": null,
      "outputs": []
    }
  ]
}