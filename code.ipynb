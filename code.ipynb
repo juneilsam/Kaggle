import pandas as pd
import numpy as np
import re
import sklearn
import xgboost as xgb
import seaborn as sns
import matplotlib.pyplot as plt
%matplotlib inline

import plotly.offline as py
py.init_notebook_mode(connected=True)
import plotly.graph_objs as go
import plotly.tools as tls

import warnings
warnings.filterwarnings('ignore')

# Going to use these 5 base models for the stacking
from sklearn.ensemble import (RandomForestClassifier, AdaBoostClassifier, 
                              GradientBoostingClassifier, ExtraTreesClassifier)
from sklearn.svm import SVC

# Load in the train and test datasets
train = pd.read_csv('data/test.csv')
test = pd.read_csv('data/test.csv')

# Store our passenger ID for easy access
PassengerId = test['PassengerId']

train.head(3)

train['Ticket_type'] = train['Ticket'].apply(lambda x: x[0:3])
train['Ticket_type']
